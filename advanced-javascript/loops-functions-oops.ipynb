{
 "cells": [
  {
   "cell_type": "markdown",
   "metadata": {},
   "source": [
    "# Loops"
   ]
  },
  {
   "cell_type": "markdown",
   "metadata": {},
   "source": [
    "### while loop"
   ]
  },
  {
   "cell_type": "code",
   "execution_count": 1,
   "metadata": {},
   "outputs": [
    {
     "name": "stdout",
     "output_type": "stream",
     "text": [
      "count 1\n",
      "count 2\n",
      "count 3\n",
      "count 4\n",
      "count 5\n"
     ]
    }
   ],
   "source": [
    "var count = 0;\n",
    "while (count < 5) {\n",
    "    console.log(\"count\", ++count);\n",
    "}"
   ]
  },
  {
   "cell_type": "markdown",
   "metadata": {},
   "source": [
    "### do-while loop"
   ]
  },
  {
   "cell_type": "code",
   "execution_count": 2,
   "metadata": {},
   "outputs": [
    {
     "name": "stdout",
     "output_type": "stream",
     "text": [
      "count 1\n",
      "count 2\n",
      "count 3\n",
      "count 4\n",
      "count 5\n"
     ]
    }
   ],
   "source": [
    "var count = 0;\n",
    "do {\n",
    "    console.log(\"count\", ++count);\n",
    "} while (count < 5);"
   ]
  },
  {
   "cell_type": "markdown",
   "metadata": {},
   "source": [
    "### for-loop"
   ]
  },
  {
   "cell_type": "code",
   "execution_count": 3,
   "metadata": {},
   "outputs": [
    {
     "name": "stdout",
     "output_type": "stream",
     "text": [
      "count 1\n",
      "count 2\n",
      "count 3\n",
      "count 4\n",
      "count 5\n"
     ]
    }
   ],
   "source": [
    "for (count = 1; count <= 5; count++) {\n",
    "    console.log(\"count\", count);\n",
    "}"
   ]
  },
  {
   "cell_type": "code",
   "execution_count": 4,
   "metadata": {},
   "outputs": [
    {
     "name": "stdout",
     "output_type": "stream",
     "text": [
      "0\n",
      "1\n",
      "2\n",
      "3\n",
      "4\n"
     ]
    }
   ],
   "source": [
    "var i = 0;\n",
    "for(; i < 5;) {\n",
    "    console.log(i++);\n",
    "}"
   ]
  },
  {
   "cell_type": "code",
   "execution_count": 6,
   "metadata": {},
   "outputs": [
    {
     "name": "stdout",
     "output_type": "stream",
     "text": [
      "ice cream 0\n",
      "ice cream 2\n",
      "ice cream 4\n",
      "count 3\n"
     ]
    }
   ],
   "source": [
    "var i = 0;\n",
    "var count = 0;\n",
    "for(var ice = \"ice\", cream = \"cream\"; i < 5; i += 2, count++) {\n",
    "    console.log(ice, cream, i);\n",
    "}\n",
    "console.log(\"count\", count);"
   ]
  },
  {
   "cell_type": "code",
   "execution_count": 7,
   "metadata": {},
   "outputs": [
    {
     "name": "stdout",
     "output_type": "stream",
     "text": [
      "i value 1\n",
      "i value 3\n",
      "i value 5\n",
      "i value 7\n",
      "i value 9\n"
     ]
    }
   ],
   "source": [
    "for(var i = 0; i < 10; i++) { \n",
    "    if (i % 2 === 0) {\n",
    "        continue;\n",
    "    }\n",
    "    console.log('i value', i); \n",
    "}"
   ]
  },
  {
   "cell_type": "code",
   "execution_count": 9,
   "metadata": {},
   "outputs": [
    {
     "name": "stdout",
     "output_type": "stream",
     "text": [
      "iteration # 1\n"
     ]
    }
   ],
   "source": [
    "for(var i = 0; i < 5; i++) {\n",
    "    console.log('iteration #', i + 1);\n",
    "    break;\n",
    "}"
   ]
  },
  {
   "cell_type": "code",
   "execution_count": 10,
   "metadata": {},
   "outputs": [
    {
     "name": "stdout",
     "output_type": "stream",
     "text": [
      "10\n",
      "20\n",
      "30\n",
      "40\n",
      "50\n"
     ]
    }
   ],
   "source": [
    "var arr = [10, 20, 30, 40, 50];\n",
    "for(var i = 0; i < arr.length; i++) {\n",
    "    console.log(arr[i]);\n",
    "}"
   ]
  },
  {
   "cell_type": "code",
   "execution_count": 12,
   "metadata": {},
   "outputs": [
    {
     "name": "stdout",
     "output_type": "stream",
     "text": [
      "1\n",
      "2\n",
      "row ended\n",
      "3\n",
      "4\n",
      "row ended\n",
      "5\n",
      "6\n",
      "row ended\n"
     ]
    }
   ],
   "source": [
    "var arr = [[1, 2], [3, 4], [5, 6]];\n",
    "for(var i = 0; i < arr.length; i++) {\n",
    "    for(var j = 0; j < arr[i].length; j++) {\n",
    "        console.log(arr[i][j]);\n",
    "    }\n",
    "    console.log(\"row ended\");\n",
    "}"
   ]
  },
  {
   "cell_type": "markdown",
   "metadata": {},
   "source": [
    "## for-each"
   ]
  },
  {
   "cell_type": "code",
   "execution_count": 13,
   "metadata": {},
   "outputs": [
    {
     "name": "stdout",
     "output_type": "stream",
     "text": [
      "10\n",
      "20\n",
      "30\n",
      "40\n",
      "50\n"
     ]
    }
   ],
   "source": [
    "var arr = [10, 20, 30, 40, 50];\n",
    "arr.forEach(a => console.log(a));"
   ]
  },
  {
   "cell_type": "markdown",
   "metadata": {},
   "source": [
    "## Function in Javascript/Typescript"
   ]
  },
  {
   "cell_type": "code",
   "execution_count": 16,
   "metadata": {},
   "outputs": [
    {
     "name": "stdout",
     "output_type": "stream",
     "text": [
      "Hello!\n"
     ]
    }
   ],
   "source": [
    "// In Js\n",
    "\n",
    "function sayHello() {\n",
    "    console.log(\"Hello!\");\n",
    "}\n",
    "\n",
    "sayHello();"
   ]
  },
  {
   "cell_type": "code",
   "execution_count": 19,
   "metadata": {},
   "outputs": [
    {
     "name": "stdout",
     "output_type": "stream",
     "text": [
      "Hi!\n"
     ]
    }
   ],
   "source": [
    "// In Ts\n",
    "\n",
    "function sayHi(): void {\n",
    "    console.log(\"Hi!\");\n",
    "}\n",
    "\n",
    "sayHi();"
   ]
  },
  {
   "cell_type": "code",
   "execution_count": 20,
   "metadata": {},
   "outputs": [
    {
     "name": "stdout",
     "output_type": "stream",
     "text": [
      "15\n"
     ]
    }
   ],
   "source": [
    "function addJs(x, y) {\n",
    "    return x + y;\n",
    "}\n",
    "\n",
    "console.log(addJs(5, 10));"
   ]
  },
  {
   "cell_type": "code",
   "execution_count": 21,
   "metadata": {},
   "outputs": [
    {
     "name": "stdout",
     "output_type": "stream",
     "text": [
      "15\n"
     ]
    }
   ],
   "source": [
    "function addTs(x: number, y: number): number {\n",
    "    return x + y;\n",
    "}\n",
    "\n",
    "console.log(addTs(5, 10));"
   ]
  },
  {
   "cell_type": "code",
   "execution_count": 26,
   "metadata": {},
   "outputs": [
    {
     "name": "stdout",
     "output_type": "stream",
     "text": [
      "function\n"
     ]
    }
   ],
   "source": [
    "var addTsRef = addTs;\n",
    "console.log(typeof(addTsRef));"
   ]
  },
  {
   "cell_type": "code",
   "execution_count": 27,
   "metadata": {},
   "outputs": [
    {
     "name": "stdout",
     "output_type": "stream",
     "text": [
      "number\n"
     ]
    }
   ],
   "source": [
    "var a = 10;\n",
    "console.log(typeof(a));"
   ]
  },
  {
   "cell_type": "code",
   "execution_count": 29,
   "metadata": {},
   "outputs": [
    {
     "name": "stdout",
     "output_type": "stream",
     "text": [
      "16\n"
     ]
    }
   ],
   "source": [
    "console.log(addTsRef(6, 10));"
   ]
  },
  {
   "cell_type": "code",
   "execution_count": 30,
   "metadata": {},
   "outputs": [
    {
     "name": "stdout",
     "output_type": "stream",
     "text": [
      "Hiiiii!\n"
     ]
    }
   ],
   "source": [
    "var someFunc = function sayHiiiii() {\n",
    "    console.log(\"Hiiiii!\");\n",
    "}\n",
    "\n",
    "someFunc();"
   ]
  },
  {
   "cell_type": "code",
   "execution_count": 31,
   "metadata": {},
   "outputs": [
    {
     "name": "stdout",
     "output_type": "stream",
     "text": [
      "Hiiiii!\n"
     ]
    }
   ],
   "source": [
    "function sayHiiiii() {\n",
    "    console.log(\"Hiiiii!\");\n",
    "}\n",
    "\n",
    "var someFunc2 = sayHiiiii;\n",
    "someFunc2();"
   ]
  },
  {
   "cell_type": "markdown",
   "metadata": {},
   "source": [
    "## Nested Functions"
   ]
  },
  {
   "cell_type": "code",
   "execution_count": 36,
   "metadata": {},
   "outputs": [
    {
     "name": "stdout",
     "output_type": "stream",
     "text": [
      "Outer function => a = 10\n",
      "Inner function => b = 15\n"
     ]
    }
   ],
   "source": [
    "function outerFunc(a: number) {\n",
    "    console.log(\"Outer function => a =\", a);\n",
    "    function innerFunc(b: number) {\n",
    "        console.log(\"Inner function => b =\", b);\n",
    "    }\n",
    "    innerFunc(a + 5);\n",
    "}\n",
    "\n",
    "outerFunc(10);"
   ]
  },
  {
   "cell_type": "code",
   "execution_count": 37,
   "metadata": {},
   "outputs": [
    {
     "name": "stdout",
     "output_type": "stream",
     "text": [
      "Outer function => a = 10\n",
      "Inner function => b = 15\n"
     ]
    }
   ],
   "source": [
    "function outerFunc(a: number) {\n",
    "    console.log(\"Outer function => a =\", a);\n",
    "    return a;\n",
    "}\n",
    "\n",
    "function innerFunc(b: number) {\n",
    "    console.log(\"Inner function => b =\", b);\n",
    "}\n",
    "\n",
    "var res = outerFunc(10);\n",
    "innerFunc(res + 5);"
   ]
  },
  {
   "cell_type": "code",
   "execution_count": 38,
   "metadata": {},
   "outputs": [
    {
     "name": "stdout",
     "output_type": "stream",
     "text": [
      "Outer function => a = 10\n",
      "Inner function => b = 25\n"
     ]
    }
   ],
   "source": [
    "function outerFunc(a: number) {\n",
    "    console.log(\"Outer function => a =\", a);\n",
    "    a += 10;\n",
    "    return a;\n",
    "}\n",
    "\n",
    "function innerFunc(b: number) {\n",
    "    console.log(\"Inner function => b =\", b);\n",
    "}\n",
    "\n",
    "var res = outerFunc(10);\n",
    "innerFunc(res + 5);"
   ]
  },
  {
   "cell_type": "code",
   "execution_count": null,
   "metadata": {},
   "outputs": [
    {
     "name": "stdout",
     "output_type": "stream",
     "text": [
      "{ userId: \"1234\", userName: \"John Doe\", age: 30, salary: 51000 }\n"
     ]
    }
   ],
   "source": [
    "function getSomeDataFromDatabase(userId) {\n",
    "    //........\n",
    "    //......\n",
    "\n",
    "    return {userId: \"1234\", userName: \"John Doe\", age: 30, salary: 50000};\n",
    "}\n",
    "\n",
    "function outerFunc(userId) {\n",
    "    var user = getSomeDataFromDatabase(userId);\n",
    "    function incrementSalary() {\n",
    "        // salary increment logic of user\n",
    "        user.salary += 1000;\n",
    "\n",
    "    }\n",
    "    incrementSalary();\n",
    "    return user;\n",
    "}\n",
    "\n",
    "console.log(outerFunc(\"1234\"));"
   ]
  },
  {
   "cell_type": "code",
   "execution_count": 49,
   "metadata": {},
   "outputs": [
    {
     "name": "stdout",
     "output_type": "stream",
     "text": [
      "{ userId: \"1234\", userName: \"John Doe\", age: 30, salary: 51000 }\n"
     ]
    }
   ],
   "source": [
    "function outerFunc(userId) {\n",
    "    var user = getSomeDataFromDatabase(userId);\n",
    "    return user;\n",
    "}\n",
    "\n",
    "function incrementSalary(user) {\n",
    "    // salary increment logic of user\n",
    "    user.salary += 1000;\n",
    "}\n",
    "\n",
    "var user = outerFunc(\"1234\")\n",
    "incrementSalary(user);\n",
    "console.log(user);"
   ]
  },
  {
   "cell_type": "markdown",
   "metadata": {},
   "source": [
    "## Arrow Functions"
   ]
  },
  {
   "cell_type": "code",
   "execution_count": null,
   "metadata": {},
   "outputs": [
    {
     "name": "stdout",
     "output_type": "stream",
     "text": [
      "hello\n"
     ]
    }
   ],
   "source": [
    "function hello() {\n",
    "    return \"hello\";\n",
    "}\n",
    "\n",
    "console.log(hello());"
   ]
  },
  {
   "cell_type": "code",
   "execution_count": null,
   "metadata": {},
   "outputs": [
    {
     "name": "stdout",
     "output_type": "stream",
     "text": [
      "hiiii\n",
      "Hello\n"
     ]
    }
   ],
   "source": [
    "var hello2 = () => {\n",
    "    return \"hiiii\";\n",
    "}\n",
    "console.log(hello2());\n",
    "\n",
    "var hello = () => \"Hello\";\n",
    "console.log(hello());"
   ]
  },
  {
   "cell_type": "code",
   "execution_count": 56,
   "metadata": {},
   "outputs": [
    {
     "name": "stdout",
     "output_type": "stream",
     "text": [
      "8\n",
      "11\n"
     ]
    }
   ],
   "source": [
    "function add(a, b) {\n",
    "    console.log(a + b);\n",
    "}\n",
    "\n",
    "add(3, 5);\n",
    "\n",
    "var add2 = (a, b) => {\n",
    "    console.log(a + b);\n",
    "}\n",
    "add2(5, 6);"
   ]
  },
  {
   "cell_type": "code",
   "execution_count": 60,
   "metadata": {},
   "outputs": [
    {
     "name": "stdout",
     "output_type": "stream",
     "text": [
      "My salary is, 50000\n",
      "My name is, John Doe\n",
      "My salary is, 100000\n",
      "My name is, Sam Smith\n"
     ]
    }
   ],
   "source": [
    "var someFunc = (salary: number, name: string) => {\n",
    "    console.log(\"My salary is, \" + salary);\n",
    "    console.log(\"My name is, \" + name);\n",
    "}\n",
    "\n",
    "function someFunc2(salary: number, name: string) {\n",
    "    console.log(\"My salary is, \" + salary);\n",
    "    console.log(\"My name is, \" + name);\n",
    "}\n",
    "\n",
    "someFunc(50000, \"John Doe\");\n",
    "someFunc2(100000, \"Sam Smith\");"
   ]
  },
  {
   "cell_type": "code",
   "execution_count": 61,
   "metadata": {},
   "outputs": [
    {
     "name": "stdout",
     "output_type": "stream",
     "text": [
      "Hello\n"
     ]
    }
   ],
   "source": [
    "function sayHello() {\n",
    "    return \"Hello\";\n",
    "}\n",
    "\n",
    "console.log(sayHello());"
   ]
  },
  {
   "cell_type": "code",
   "execution_count": null,
   "metadata": {},
   "outputs": [
    {
     "name": "stdout",
     "output_type": "stream",
     "text": [
      "Hello\n"
     ]
    }
   ],
   "source": [
    "var sayHello = () => {\n",
    "    return \"Hello\";\n",
    "}\n",
    "\n",
    "var sayHello = () => \"Hello\";\n",
    "\n",
    "console.log(sayHello());"
   ]
  },
  {
   "cell_type": "code",
   "execution_count": 67,
   "metadata": {},
   "outputs": [
    {
     "name": "stdout",
     "output_type": "stream",
     "text": [
      "15\n"
     ]
    }
   ],
   "source": [
    "var add = (a: number, b: number) => a + b;\n",
    "console.log(add(5, 10));"
   ]
  },
  {
   "cell_type": "markdown",
   "metadata": {},
   "source": [
    "## Function as an argument"
   ]
  },
  {
   "cell_type": "code",
   "execution_count": 70,
   "metadata": {},
   "outputs": [
    {
     "name": "stdout",
     "output_type": "stream",
     "text": [
      "1\n",
      "2\n"
     ]
    }
   ],
   "source": [
    "function foo(a, b) {\n",
    "    console.log(a);\n",
    "    console.log(b);\n",
    "}\n",
    "\n",
    "foo(1, 2);"
   ]
  },
  {
   "cell_type": "code",
   "execution_count": 73,
   "metadata": {},
   "outputs": [
    {
     "name": "stdout",
     "output_type": "stream",
     "text": [
      "Executing function from argument...\n",
      "This is someFunction\n"
     ]
    }
   ],
   "source": [
    "function executeFunction(func) {\n",
    "    console.log(\"Executing function from argument...\");\n",
    "    func();\n",
    "}\n",
    "\n",
    "\n",
    "var abc = function someFunction() {\n",
    "    console.log(\"This is someFunction\");\n",
    "}\n",
    "\n",
    "executeFunction(abc);"
   ]
  },
  {
   "cell_type": "code",
   "execution_count": 74,
   "metadata": {},
   "outputs": [
    {
     "name": "stdout",
     "output_type": "stream",
     "text": [
      "Executing function from argument...\n",
      "This is someFunction\n"
     ]
    }
   ],
   "source": [
    "function executeFunction(func) {\n",
    "    console.log(\"Executing function from argument...\");\n",
    "    func();\n",
    "}\n",
    "\n",
    "executeFunction(function someFunction() {\n",
    "    console.log(\"This is someFunction\");\n",
    "});"
   ]
  },
  {
   "cell_type": "code",
   "execution_count": 78,
   "metadata": {},
   "outputs": [
    {
     "name": "stdout",
     "output_type": "stream",
     "text": [
      "Executing function from argument...\n",
      "This is someFunction\n"
     ]
    }
   ],
   "source": [
    "function executeFunction(func) {\n",
    "    console.log(\"Executing function from argument...\");\n",
    "    func();\n",
    "}\n",
    "\n",
    "var someMethod = () => {\n",
    "    console.log(\"This is someFunction\");\n",
    "}\n",
    "\n",
    "executeFunction(someMethod);"
   ]
  },
  {
   "cell_type": "code",
   "execution_count": 75,
   "metadata": {},
   "outputs": [
    {
     "name": "stdout",
     "output_type": "stream",
     "text": [
      "Executing function from argument...\n",
      "This is someFunction\n"
     ]
    }
   ],
   "source": [
    "function executeFunction(func) {\n",
    "    console.log(\"Executing function from argument...\");\n",
    "    func();\n",
    "}\n",
    "\n",
    "executeFunction(() => {\n",
    "    console.log(\"This is someFunction\");\n",
    "});"
   ]
  },
  {
   "cell_type": "code",
   "execution_count": null,
   "metadata": {},
   "outputs": [
    {
     "name": "stdout",
     "output_type": "stream",
     "text": [
      "Executing function from argument...\n",
      "This is someFunction\n"
     ]
    }
   ],
   "source": [
    "function executeFunction(func) {\n",
    "    console.log(\"Executing function from argument...\");\n",
    "    func();\n",
    "}\n",
    "\n",
    "var sFunc = () => console.log(\"This is someFunction\")\n",
    "\n",
    "executeFunction(sFunc);"
   ]
  },
  {
   "cell_type": "code",
   "execution_count": 77,
   "metadata": {},
   "outputs": [
    {
     "name": "stdout",
     "output_type": "stream",
     "text": [
      "Executing function from argument...\n",
      "This is someFunction\n"
     ]
    }
   ],
   "source": [
    "function executeFunction(func) {\n",
    "    console.log(\"Executing function from argument...\");\n",
    "    func();\n",
    "}\n",
    "\n",
    "executeFunction(() => console.log(\"This is someFunction\"));"
   ]
  },
  {
   "cell_type": "code",
   "execution_count": null,
   "metadata": {},
   "outputs": [
    {
     "name": "stdout",
     "output_type": "stream",
     "text": [
      "10\n",
      "20\n"
     ]
    }
   ],
   "source": [
    "function printValue(value) {\n",
    "    console.log(value);\n",
    "}\n",
    "\n",
    "printValue(10);\n",
    "\n",
    "var printValueUsingArrowFunction = (value) => console.log(value);\n",
    "printValueUsingArrowFunction(20);"
   ]
  },
  {
   "cell_type": "markdown",
   "metadata": {},
   "source": [
    "## for-each in Js/Ts"
   ]
  },
  {
   "cell_type": "code",
   "execution_count": 79,
   "metadata": {},
   "outputs": [
    {
     "name": "stdout",
     "output_type": "stream",
     "text": [
      "1\n",
      "2\n",
      "3\n",
      "4\n",
      "5\n"
     ]
    }
   ],
   "source": [
    "var arr = [1, 2, 3, 4, 5];\n",
    "for(var i = 0; i < arr.length; i++) {\n",
    "    console.log(arr[i]);\n",
    "}"
   ]
  },
  {
   "cell_type": "code",
   "execution_count": null,
   "metadata": {},
   "outputs": [
    {
     "name": "stdout",
     "output_type": "stream",
     "text": [
      "1\n",
      "2\n",
      "3\n",
      "4\n",
      "5\n"
     ]
    }
   ],
   "source": [
    "var arr = [1, 2, 3, 4, 5];\n",
    "arr.forEach(val => console.log(val));"
   ]
  },
  {
   "cell_type": "code",
   "execution_count": 7,
   "metadata": {},
   "outputs": [
    {
     "name": "stdout",
     "output_type": "stream",
     "text": [
      "1\n",
      "2\n",
      "3\n",
      "4\n",
      "5\n"
     ]
    }
   ],
   "source": [
    "var arr = [1, 2, 3, 4, 5];\n",
    "arr.forEach(x => console.log(x));"
   ]
  },
  {
   "cell_type": "code",
   "execution_count": 85,
   "metadata": {},
   "outputs": [
    {
     "name": "stdout",
     "output_type": "stream",
     "text": [
      "21 0\n",
      "33 1\n",
      "14 2\n",
      "40 3\n",
      "65 4\n"
     ]
    }
   ],
   "source": [
    "var arr = [21, 33, 14, 40, 65];\n",
    "arr.forEach((val, ind) => console.log(val, ind));"
   ]
  },
  {
   "cell_type": "code",
   "execution_count": 86,
   "metadata": {},
   "outputs": [
    {
     "name": "stdout",
     "output_type": "stream",
     "text": [
      "21 0 [ 21, 33, 14, 40, 65 ]\n",
      "33 1 [ 21, 33, 14, 40, 65 ]\n",
      "14 2 [ 21, 33, 14, 40, 65 ]\n",
      "40 3 [ 21, 33, 14, 40, 65 ]\n",
      "65 4 [ 21, 33, 14, 40, 65 ]\n"
     ]
    }
   ],
   "source": [
    "var arr = [21, 33, 14, 40, 65];\n",
    "arr.forEach((val, ind, abc) => console.log(val, ind, abc));"
   ]
  },
  {
   "cell_type": "code",
   "execution_count": 91,
   "metadata": {},
   "outputs": [
    {
     "name": "stdout",
     "output_type": "stream",
     "text": [
      "21 0 [ 21, 33, 14, 40, 65 ]\n",
      "33 1 [ 21, 33, 14, 40, 65 ]\n",
      "14 2 [ 21, 33, 14, 40, 65 ]\n",
      "40 3 [ 21, 33, 14, 40, 65 ]\n",
      "65 4 [ 21, 33, 14, 40, 65 ]\n"
     ]
    }
   ],
   "source": [
    "function executeForEach(a, b, c) {\n",
    "    console.log(a, b, c);\n",
    "}\n",
    "\n",
    "var abc = function executeForEach(a, b, c) {\n",
    "    console.log(a, b, c);\n",
    "}\n",
    "\n",
    "var abc2 = (a, b, c) => {\n",
    "    console.log(a, b, c);\n",
    "}\n",
    "\n",
    "var arr = [21, 33, 14, 40, 65];\n",
    "arr.forEach((a, b, c) => console.log(a, b, c));"
   ]
  },
  {
   "cell_type": "code",
   "execution_count": 92,
   "metadata": {},
   "outputs": [
    {
     "name": "stdout",
     "output_type": "stream",
     "text": [
      "Hello 0 [ \"Hello\", \"Sam\", 14, 40, false, true ]\n",
      "Sam 1 [ \"Hello\", \"Sam\", 14, 40, false, true ]\n",
      "14 2 [ \"Hello\", \"Sam\", 14, 40, false, true ]\n",
      "40 3 [ \"Hello\", \"Sam\", 14, 40, false, true ]\n",
      "false 4 [ \"Hello\", \"Sam\", 14, 40, false, true ]\n",
      "true 5 [ \"Hello\", \"Sam\", 14, 40, false, true ]\n"
     ]
    }
   ],
   "source": [
    "var arr = [\"Hello\", \"Sam\", 14, 40, false, true];\n",
    "arr.forEach((a, b, c) => console.log(a, b, c));"
   ]
  },
  {
   "cell_type": "markdown",
   "metadata": {},
   "source": [
    "## Exercise: Counting Population\n",
    "\n",
    "### Task\n",
    "A demographist wants to find the total population within a demographic. This demographic is in a region with a temperature less than or equal to 10°C. However, with a limited programming background, the demographist has asked for your help!\n",
    "\n",
    "Your task is to find the sum of the population in a two-dimensional array of objects which reside in a region of temperature less than or equal to 10°C. Each object consists of the region information.\n",
    "\n",
    "### Problem statement\n",
    "You are given one variable named `raw_array`, assigned to a two-dimensional array consisting of objects. Each object has the following properties:\n",
    "\n",
    "`name`: This is assigned to a string with the value of the city’s name in which the population resides. Example, `{name: \"Sydney\"}`\n",
    "\n",
    "`population`: This is assigned to a number with the value of the quantity of the residing population. Example, `{population: 1250000}`\n",
    "\n",
    "`temp`: This is assigned to a number with the value of the temperature (in °C) of the region. Example, `{temp: 3.0}`\n",
    "\n",
    "`currency`: This is assigned to a string with the value of the currency code of the city in which the population resides. Example, `{currency: \"AUD\"}`\n",
    "\n",
    "```\n",
    "var obj = {\n",
    "    name: string,\n",
    "    population: number,\n",
    "    temp: number,\n",
    "    currency: string\n",
    "}\n",
    "```"
   ]
  },
  {
   "cell_type": "code",
   "execution_count": 93,
   "metadata": {},
   "outputs": [],
   "source": [
    "var raw_arr = [\n",
    "    [\n",
    "        {name: \"NewYork\", population: 8623000, temp: 6.0, currency: 'USD'}, \n",
    "        {name: \"Boston\", population: 685094, temp: 2.0, currency: 'USD'}, \n",
    "        {name: \"Los Angeles\", population: 4000000, temp: 13.0, currency: 'USD'}\n",
    "    ],\n",
    "    [\n",
    "        {name: \"San Francisco\", population: 884363, temp: 12.0, currency: 'USD'}, \n",
    "        null, \n",
    "        {name: \"Charlottesville\", population: 48019, temp: 8.0, currency: 'USD'}\n",
    "    ],\n",
    "    [\n",
    "        null, \n",
    "        {name: \"Seattle\", population: 724745, temp: 4.0, currency: 'USD'}, \n",
    "        null\n",
    "    ],\n",
    "];"
   ]
  },
  {
   "cell_type": "code",
   "execution_count": 97,
   "metadata": {},
   "outputs": [
    {
     "name": "stdout",
     "output_type": "stream",
     "text": [
      "10080858\n"
     ]
    }
   ],
   "source": [
    "// Using simple for loop\n",
    "\n",
    "var totalPopulation = 0;\n",
    "\n",
    "for(var i = 0; i < raw_arr.length; i++) {\n",
    "    var innerList = raw_arr[i];\n",
    "    for(var j = 0; j < innerList.length; j++) {\n",
    "        var city = innerList[j];\n",
    "        if(city !== null && city.temp <= 10.0) {\n",
    "            totalPopulation += city.population;\n",
    "        }\n",
    "    }\n",
    "}\n",
    "console.log(totalPopulation);"
   ]
  },
  {
   "cell_type": "code",
   "execution_count": 106,
   "metadata": {},
   "outputs": [
    {
     "name": "stdout",
     "output_type": "stream",
     "text": [
      "10080858\n"
     ]
    }
   ],
   "source": [
    "var totalPopulationNew = 0;\n",
    "raw_arr.forEach((innerList) => {\n",
    "    innerList.filter((city) => city !== null && city.temp <= 10.0).forEach(city => totalPopulationNew += city.population);\n",
    "});\n",
    "console.log(totalPopulationNew);"
   ]
  },
  {
   "cell_type": "code",
   "execution_count": null,
   "metadata": {},
   "outputs": [],
   "source": []
  },
  {
   "cell_type": "markdown",
   "metadata": {},
   "source": [
    "## Map and Reduce"
   ]
  },
  {
   "cell_type": "code",
   "execution_count": 9,
   "metadata": {},
   "outputs": [
    {
     "name": "stdout",
     "output_type": "stream",
     "text": [
      "[ 10, 20, 30, 40, 50 ]\n",
      "[ 10.5, 21, 31.5, 42, 52.5 ]\n"
     ]
    }
   ],
   "source": [
    "var employeeSalaries = [10, 20, 30, 40, 50];\n",
    "console.log(employeeSalaries);\n",
    "for(var i = 0; i < employeeSalaries.length; i++) {\n",
    "    let currSalary = employeeSalaries[i];\n",
    "    let newSalary = currSalary + currSalary * 0.05;\n",
    "    employeeSalaries[i] = newSalary;\n",
    "}\n",
    "console.log(employeeSalaries);"
   ]
  },
  {
   "cell_type": "code",
   "execution_count": 13,
   "metadata": {},
   "outputs": [
    {
     "name": "stdout",
     "output_type": "stream",
     "text": [
      "[ 10.5, 21, 31.5, 42, 52.5 ]\n"
     ]
    }
   ],
   "source": [
    "var employeeSalaries = [10, 20, 30, 40, 50];\n",
    "employeeSalaries.map((curr, i) => employeeSalaries[i] = curr + curr * 0.05);\n",
    "\n",
    "console.log(employeeSalaries);"
   ]
  },
  {
   "cell_type": "code",
   "execution_count": null,
   "metadata": {},
   "outputs": [
    {
     "name": "stdout",
     "output_type": "stream",
     "text": [
      "[ 10.5, 21, 31.5, 42, 52.5 ]\n"
     ]
    }
   ],
   "source": [
    "var employeeSalaries = [10, 20, 30, 40, 50];\n",
    "var newEmployeeSalaries = employeeSalaries.map((curr) => curr = curr + curr * 0.05);\n",
    "console.log(newEmployeeSalaries);"
   ]
  },
  {
   "cell_type": "code",
   "execution_count": 16,
   "metadata": {},
   "outputs": [
    {
     "name": "stdout",
     "output_type": "stream",
     "text": [
      "[ 12, 34, 10, 20, 78, 90 ]\n",
      "[ 22, 44, 20, 30, 88, 100 ]\n"
     ]
    }
   ],
   "source": [
    "var numbers = [12, 34, 89, 10, 49, 39, 20, 13, 45, 67, 78, 90];\n",
    "// 1. Filter all the numbers that are even. ==> .filter()\n",
    "// 2. Increase all the numbers by 10. ==> .map()\n",
    "\n",
    "var evenNumbers = numbers.filter(num => num % 2 == 0);\n",
    "var updatedArr = evenNumbers.map(num => num + 10);\n",
    "console.log(evenNumbers);\n",
    "console.log(updatedArr);"
   ]
  },
  {
   "cell_type": "code",
   "execution_count": 17,
   "metadata": {},
   "outputs": [
    {
     "name": "stdout",
     "output_type": "stream",
     "text": [
      "22\n",
      "44\n",
      "20\n",
      "30\n",
      "88\n",
      "100\n"
     ]
    }
   ],
   "source": [
    "numbers.filter(num => num % 2 == 0).map(num => num + 10).forEach(num => console.log(num));"
   ]
  },
  {
   "cell_type": "code",
   "execution_count": 18,
   "metadata": {},
   "outputs": [
    {
     "name": "stdout",
     "output_type": "stream",
     "text": [
      "22\n",
      "44\n",
      "20\n",
      "30\n",
      "88\n",
      "100\n"
     ]
    }
   ],
   "source": [
    "var filterBy2 = function filter(num) {\n",
    "    return num % 2 == 0;\n",
    "}\n",
    "\n",
    "var adds10 = function adds(num) {\n",
    "    return num + 10;\n",
    "}\n",
    "\n",
    "var prints = function print(num) {\n",
    "    console.log(num);\n",
    "}\n",
    "\n",
    "numbers.filter(filterBy2).map(adds10).forEach(prints);"
   ]
  },
  {
   "cell_type": "code",
   "execution_count": 19,
   "metadata": {},
   "outputs": [
    {
     "name": "stdout",
     "output_type": "stream",
     "text": [
      "22\n",
      "44\n",
      "20\n",
      "30\n",
      "88\n",
      "100\n"
     ]
    }
   ],
   "source": [
    "var filterBy2 = (num) => num % 2 == 0;\n",
    "\n",
    "var adds10 = (num) => num + 10;\n",
    "\n",
    "var prints = (num) => console.log(num);\n",
    "\n",
    "numbers.filter(filterBy2).map(adds10).forEach(prints);"
   ]
  },
  {
   "cell_type": "code",
   "execution_count": 20,
   "metadata": {},
   "outputs": [
    {
     "name": "stdout",
     "output_type": "stream",
     "text": [
      "22\n",
      "44\n",
      "20\n",
      "30\n",
      "88\n",
      "100\n"
     ]
    }
   ],
   "source": [
    "var filterBy2 = num => num % 2 == 0;\n",
    "\n",
    "var adds10 = num => num + 10;\n",
    "\n",
    "var prints = num => console.log(num);\n",
    "\n",
    "numbers.filter(filterBy2).map(adds10).forEach(prints);"
   ]
  },
  {
   "cell_type": "code",
   "execution_count": 21,
   "metadata": {},
   "outputs": [
    {
     "name": "stdout",
     "output_type": "stream",
     "text": [
      "22\n",
      "44\n",
      "20\n",
      "30\n",
      "88\n",
      "100\n"
     ]
    }
   ],
   "source": [
    "numbers.filter(num => num % 2 == 0).map(num => num + 10).forEach(num => console.log(num));"
   ]
  },
  {
   "cell_type": "code",
   "execution_count": null,
   "metadata": {},
   "outputs": [
    {
     "name": "stdout",
     "output_type": "stream",
     "text": [
      "22 44\n",
      "66 20\n",
      "86 30\n",
      "116 88\n",
      "204 100\n",
      "304\n"
     ]
    }
   ],
   "source": [
    "var numbers = [12, 34, 89, 10, 49, 39, 20, 13, 45, 67, 78, 90];\n",
    "// 1. Filter all the numbers that are even. ==> .filter()\n",
    "// 2. Increase all the numbers by 10. ==> .map()\n",
    "// 3. Instead of printing each value (forEach), return the sum of all the updated values.\n",
    "\n",
    "var total = numbers.filter(num => num % 2 == 0).map(num => num + 10).reduce((prev, curr) => prev + curr);\n",
    "\n",
    "console.log(total);\n"
   ]
  },
  {
   "cell_type": "markdown",
   "metadata": {},
   "source": [
    "## Object Oriented Programming in Javascript"
   ]
  },
  {
   "cell_type": "code",
   "execution_count": 41,
   "metadata": {},
   "outputs": [
    {
     "name": "stdout",
     "output_type": "stream",
     "text": [
      "I am inside construtor\n",
      "John Doe\n",
      "I am inside construtor\n",
      "Jane Smith\n",
      "John Doe\n",
      "Employee 2 has higher salary\n",
      "undefined\n",
      "55000\n"
     ]
    }
   ],
   "source": [
    "class Employee {\n",
    "    constructor(name, salary, age, isManager, dateOfJoining) {\n",
    "        console.log(\"I am inside construtor\");\n",
    "        this.name = name;\n",
    "        this.salary = salary;\n",
    "        this.age = age;\n",
    "        this.isManager = isManager;\n",
    "        this.dateOfJoining = dateOfJoining;\n",
    "    }\n",
    "\n",
    "\n",
    "    // non static methods\n",
    "    getName() {\n",
    "        return this.name;\n",
    "    }\n",
    "\n",
    "    // static methods\n",
    "    static compareSalaryOfTwoEmployees(salary1, salary2) {\n",
    "        if(salary1 > salary2) {\n",
    "            console.log(\"Employee 1 has higher salary\");\n",
    "        } else {\n",
    "            console.log(\"Employee 2 has higher salary\");\n",
    "        }\n",
    "        return this.isManager;;\n",
    "    }\n",
    "\n",
    "    static increaseSalaryByPercentage(salary, percentage) {\n",
    "        return salary + (salary * percentage / 100);\n",
    "    }\n",
    "\n",
    "\n",
    "}\n",
    "\n",
    "\n",
    "var employee1 = new Employee(\"John Doe\", 50000, 30, false, new Date(\"2020-01-01\"));\n",
    "console.log(employee1.name);\n",
    "\n",
    "var employee2 = new Employee(\"Jane Smith\", 60000, 28, true, new Date(\"2019-05-15\"));\n",
    "console.log(employee2.name);\n",
    "\n",
    "console.log(employee1.getName());\n",
    "\n",
    "console.log(Employee.compareSalaryOfTwoEmployees(employee1.salary, employee2.salary));\n",
    "\n",
    "employee1.salary = Employee.increaseSalaryByPercentage(employee1.salary, 10);\n",
    "console.log(employee1.salary)"
   ]
  },
  {
   "cell_type": "code",
   "execution_count": 45,
   "metadata": {},
   "outputs": [
    {
     "name": "stdout",
     "output_type": "stream",
     "text": [
      "Rohit Sharma * Mumbai Indians\n",
      "Jasprit Bumrah * Mumbai Indians\n"
     ]
    }
   ],
   "source": [
    "class MIPlayer {\n",
    "    // static teamName = \"Mumbai Indians\";\n",
    "    constructor(playerName, playerAge, playerRuns, teamName) {\n",
    "        this.playerName = playerName;\n",
    "        this.playerAge = playerAge;\n",
    "        this.playerRuns = playerRuns;\n",
    "        this.teamName = teamName;\n",
    "    }\n",
    "}\n",
    "\n",
    "var player1 = new MIPlayer(\"Rohit Sharma\", 35, 5000, \"Mumbai Indians\");\n",
    "var player2 = new MIPlayer(\"Jasprit Bumrah\", 29, 1000, \"Mumbai Indians\");\n",
    "\n",
    "console.log(player1.playerName + \" * \" + player1.teamName);\n",
    "console.log(player2.playerName + \" * \" + player2.teamName);"
   ]
  },
  {
   "cell_type": "code",
   "execution_count": 46,
   "metadata": {},
   "outputs": [
    {
     "name": "stdout",
     "output_type": "stream",
     "text": [
      "Rohit Sharma * Mumbai Indians\n",
      "Jasprit Bumrah * Mumbai Indians\n"
     ]
    }
   ],
   "source": [
    "class MIPlayer {\n",
    "    static teamName = \"Mumbai Indians\";\n",
    "    constructor(playerName, playerAge, playerRuns) {\n",
    "        this.playerName = playerName;\n",
    "        this.playerAge = playerAge;\n",
    "        this.playerRuns = playerRuns;\n",
    "    }\n",
    "}\n",
    "\n",
    "var player1 = new MIPlayer(\"Rohit Sharma\", 35, 5000);\n",
    "var player2 = new MIPlayer(\"Jasprit Bumrah\", 29, 1000);\n",
    "\n",
    "console.log(player1.playerName + \" * \" + MIPlayer.teamName);\n",
    "console.log(player2.playerName + \" * \" + MIPlayer.teamName);"
   ]
  },
  {
   "cell_type": "markdown",
   "metadata": {},
   "source": [
    "## Private Properties - Abstraction"
   ]
  },
  {
   "cell_type": "code",
   "execution_count": null,
   "metadata": {},
   "outputs": [
    {
     "ename": "SyntaxError",
     "evalue": "Private field '#accountHoldersName' must be declared in an enclosing class",
     "output_type": "error",
     "traceback": [
      "Stack trace:",
      "SyntaxError: Private field '#accountHoldersName' must be declared in an enclosing class"
     ]
    }
   ],
   "source": [
    "class Bank {\n",
    "\n",
    "    #accountHoldersName;\n",
    "    #accountNumber;\n",
    "    #accountBalance;\n",
    "    \n",
    "    constructor(bankName, accountHoldersName, accountNumber, accountBalance) {\n",
    "        this.bankName = bankName;\n",
    "        this.#accountHoldersName = accountHoldersName;\n",
    "        this.#accountNumber = accountNumber;\n",
    "        this.#accountBalance = accountBalance;\n",
    "    }\n",
    "}\n",
    "\n",
    "var bankAccount1 = new Bank(\"SBI\", \"John Doe\", 123456789, 50000);\n",
    "console.log(bankAccount1.#accountHoldersName);\n",
    "console.log(bankAccount1.#accountNumber);\n",
    "console.log(bankAccount1.#accountBalance);"
   ]
  },
  {
   "cell_type": "code",
   "execution_count": null,
   "metadata": {},
   "outputs": [
    {
     "ename": "SyntaxError",
     "evalue": "Private field '#privateField' must be declared in an enclosing class",
     "output_type": "error",
     "traceback": [
      "Stack trace:",
      "SyntaxError: Private field '#privateField' must be declared in an enclosing class"
     ]
    }
   ],
   "source": [
    "class ClassWithPrivateField {\n",
    "      \n",
    "    constructor(val) {\n",
    "        this.#privateField = val;\n",
    "    }\n",
    "}\n",
    "  \n",
    "const instance = new ClassWithPrivateField(42);\n",
    "console.log(instance.#privateField);  "
   ]
  },
  {
   "cell_type": "code",
   "execution_count": 2,
   "metadata": {},
   "outputs": [
    {
     "name": "stdout",
     "output_type": "stream",
     "text": [
      "Employee {\n",
      "  name: \"John Doe\",\n",
      "  salary: 50000,\n",
      "  age: 30,\n",
      "  isManager: false,\n",
      "  dateOfJoining: 2020-01-01T00:00:00.000Z\n",
      "} Employee {\n",
      "  name: \"John Doe\",\n",
      "  salary: 50000,\n",
      "  age: 30,\n",
      "  isManager: false,\n",
      "  dateOfJoining: 2020-01-01T00:00:00.000Z\n",
      "}\n"
     ]
    }
   ],
   "source": [
    "let objRef = null;\n",
    "\n",
    "class Employee {\n",
    "    constructor(name, salary, age, isManager, dateOfJoining) {\n",
    "        objRef = this; // capture the reference\n",
    "        this.name = name;\n",
    "        this.salary = salary;\n",
    "        this.age = age;\n",
    "        this.isManager = isManager;\n",
    "        this.dateOfJoining = dateOfJoining;\n",
    "    }\n",
    "}\n",
    "\n",
    "var employee1 = new Employee(\"John Doe\", 50000, 30, false, new Date(\"2020-01-01\"));\n",
    "\n",
    "console.log(employee1, objRef); // true\n"
   ]
  },
  {
   "cell_type": "code",
   "execution_count": 3,
   "metadata": {},
   "outputs": [
    {
     "name": "stdout",
     "output_type": "stream",
     "text": [
      "987654321\n"
     ]
    }
   ],
   "source": [
    "class BankAccount {\n",
    "    constructor(name, balance, accountNumber) {\n",
    "        this.name = name;\n",
    "        this.balance = balance;\n",
    "        this.accountNumber = accountNumber;\n",
    "    }\n",
    "}\n",
    "\n",
    "var bankAccount1 = new BankAccount(\"John Doe\", 50000, 12345678);\n",
    "bankAccount1.accountNumber = 987654321;\n",
    "console.log(bankAccount1.accountNumber);"
   ]
  },
  {
   "cell_type": "code",
   "execution_count": null,
   "metadata": {},
   "outputs": [
    {
     "name": "stdout",
     "output_type": "stream",
     "text": [
      "0\n"
     ]
    }
   ],
   "source": [
    "class CoffeeMachine {\n",
    "    _waterAmount = 0;\n",
    "  \n",
    "    set waterAmount(value) {\n",
    "      if (value < 0) {\n",
    "        value = 0;\n",
    "      }\n",
    "      this._waterAmount = value;\n",
    "    }\n",
    "  \n",
    "    get waterAmount() {\n",
    "      return this._waterAmount;\n",
    "    }\n",
    "\n",
    "    getWaterAmount() {\n",
    "        return this._waterAmount;\n",
    "    }\n",
    "  \n",
    "    constructor(power) {\n",
    "      this._power = power;\n",
    "    }\n",
    "  \n",
    "}\n",
    "  \n",
    "let coffeeMachine = new CoffeeMachine(100);\n",
    "  \n",
    "coffeeMachine.waterAmount = -10;\n",
    "console.log(coffeeMachine.getWaterAmount());"
   ]
  },
  {
   "cell_type": "markdown",
   "metadata": {},
   "source": [
    "## Inheritance and super keyword"
   ]
  },
  {
   "cell_type": "code",
   "execution_count": 16,
   "metadata": {},
   "outputs": [
    {
     "name": "stdout",
     "output_type": "stream",
     "text": [
      "Try writing super keyword below this wali line...\n",
      "ElectricCar {\n",
      "  color: \"White\",\n",
      "  wheelsColor: \"Black\",\n",
      "  brand: \"Tesla\",\n",
      "  engine: 3000,\n",
      "  batteryBackup: \"450Kms\",\n",
      "  chargingTime: \"2 hours\"\n",
      "}\n"
     ]
    }
   ],
   "source": [
    "class Car {\n",
    "    public static wheels: number = 4\n",
    "    constructor(color: string, wheelsColor: string, brand: string, engine: number) {\n",
    "        this.color = color;\n",
    "        this.wheelsColor = wheelsColor;\n",
    "        this.brand = brand;\n",
    "        this.engine = engine;\n",
    "    }\n",
    "}\n",
    "\n",
    "class ElectricCar extends Car {\n",
    "    constructor(color: string, wheelsColor: string, brand: string, engine: number, batteryBackup: string, chargingTime: string) {\n",
    "        super(color, wheelsColor, brand, engine);\n",
    "        console.log(\"Try writing super keyword below this wali line...\");\n",
    "        this.batteryBackup = batteryBackup;\n",
    "        this.chargingTime = chargingTime;\n",
    "    }\n",
    "}\n",
    "\n",
    "class PetrolCar extends Car {\n",
    "    constructor(color: string, wheelsColor: string, brand: string, engine: number, milaege: number) {\n",
    "        super(color, wheelsColor, brand, engine);\n",
    "        this.milaege = milaege;\n",
    "    }\n",
    "}\n",
    "\n",
    "var json = {\n",
    "    \"color\": \"White\",\n",
    "    \"wheelsColor\": \"Black\",\n",
    "    \"brand\": \"Tesla\",\n",
    "    \"engine\": 3000,\n",
    "    \"batteryBackup\": \"450Kms\",\n",
    "    \"chargingTime\": \"2 hours\",\n",
    "    \"type\": \"ELECTRIC\"\n",
    "}\n",
    "\n",
    "if(json.type === \"ELECTRIC\") {\n",
    "    var car1: Car = new ElectricCar(json.color, json.wheelsColor, json.brand, json.engine, json.batteryBackup, json.chargingTime);\n",
    "    console.log(car1);\n",
    "} else {\n",
    "    var car2: Car = new PetrolCar(\"White\", \"Black\", \"Tesla\", 3000, 18);\n",
    "    console.log(car2);\n",
    "}\n",
    "\n"
   ]
  },
  {
   "cell_type": "markdown",
   "metadata": {},
   "source": [
    "## Access Modifiers"
   ]
  },
  {
   "cell_type": "code",
   "execution_count": null,
   "metadata": {},
   "outputs": [],
   "source": [
    "class CommonHouse {\n",
    "    public newspaper: string;\n",
    "    public chairs: number;\n",
    "    private poolTable: number;\n",
    "\n",
    "    constructor(newspaper: string, chairs: number, poolTable: number) {\n",
    "        this.newspaper = newspaper;\n",
    "        this.chairs = chairs;\n",
    "        this.poolTable = poolTable;\n",
    "    }\n",
    "}\n",
    "\n",
    "class House1 extends CommonHouse {\n",
    "    private bike: string;\n",
    "    constructor(newspaper: string, chairs: number, poolTable: number, bike: string) {\n",
    "        super(newspaper, chairs, poolTable);\n",
    "        this.bike = bike;\n",
    "    }\n",
    "\n",
    "    printPoolTable() {\n",
    "        console.log(this.poolTable);\n",
    "    }\n",
    "}\n",
    "\n",
    "\n",
    "var obj: CommonHouse = new House1(\"Times of India\", 10, 2, \"Honda\");\n",
    "obj.printPoolTable();"
   ]
  },
  {
   "cell_type": "markdown",
   "metadata": {},
   "source": [
    "## Banking System\n",
    "\n",
    "### Account (abstract) — common logic for all account types\n",
    "\n",
    "### Account Types — `SavingsAccount`, `CurrentAccount`, `FixedDepositAccount`\n",
    "\n",
    "### Interfaces — `InterestCalculable`, `Transferable`\n",
    "\n",
    "### Transaction System — tracks all `deposits`, `withdrawals`, and `transfers`\n",
    "\n",
    "### Bank Class — manages multiple `users/accounts`\n",
    "\n",
    "### Demo/Driver Code — shows a complete working scenario\n",
    "\n"
   ]
  },
  {
   "cell_type": "markdown",
   "metadata": {},
   "source": []
  }
 ],
 "metadata": {
  "kernelspec": {
   "display_name": "Deno",
   "language": "typescript",
   "name": "deno"
  },
  "language_info": {
   "codemirror_mode": "typescript",
   "file_extension": ".ts",
   "mimetype": "text/x.typescript",
   "name": "typescript",
   "nbconvert_exporter": "script",
   "pygments_lexer": "typescript",
   "version": "5.7.3"
  }
 },
 "nbformat": 4,
 "nbformat_minor": 2
}
